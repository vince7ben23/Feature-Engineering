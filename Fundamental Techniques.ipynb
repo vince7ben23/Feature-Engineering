{
 "cells": [
  {
   "cell_type": "markdown",
   "metadata": {},
   "source": [
    "<h1>Fundamental</h1>\n",
    "    \n",
    "1. Data Exploration and Missing Values Finding\n",
    "2. Numerical Imputation  \n",
    "3. Categorical Imputation\n",
    "4. Handling Outliers\n",
    "5. Bining\n",
    "6. Data Transformation\n",
    "7. One Hot Encoding\n",
    "8. Grouping Operations\n",
    "9. Feature Split\n",
    "10. Feature Scaling\n",
    "11. Extracting Date\n"
   ]
  },
  {
   "cell_type": "code",
   "execution_count": 148,
   "metadata": {},
   "outputs": [],
   "source": [
    "import pandas as pd\n",
    "import numpy as np\n",
    "import matplotlib.pyplot as plt\n",
    "from scipy import stats"
   ]
  },
  {
   "cell_type": "code",
   "execution_count": 149,
   "metadata": {},
   "outputs": [],
   "source": [
    "test = pd.read_csv(\"test.csv\")\n",
    "train = pd.read_csv(\"train.csv\")"
   ]
  },
  {
   "cell_type": "code",
   "execution_count": 150,
   "metadata": {},
   "outputs": [
    {
     "data": {
      "text/html": [
       "<div>\n",
       "<style scoped>\n",
       "    .dataframe tbody tr th:only-of-type {\n",
       "        vertical-align: middle;\n",
       "    }\n",
       "\n",
       "    .dataframe tbody tr th {\n",
       "        vertical-align: top;\n",
       "    }\n",
       "\n",
       "    .dataframe thead th {\n",
       "        text-align: right;\n",
       "    }\n",
       "</style>\n",
       "<table border=\"1\" class=\"dataframe\">\n",
       "  <thead>\n",
       "    <tr style=\"text-align: right;\">\n",
       "      <th></th>\n",
       "      <th>Loan_ID</th>\n",
       "      <th>Gender</th>\n",
       "      <th>Married</th>\n",
       "      <th>Dependents</th>\n",
       "      <th>Education</th>\n",
       "      <th>Self_Employed</th>\n",
       "      <th>ApplicantIncome</th>\n",
       "      <th>CoapplicantIncome</th>\n",
       "      <th>LoanAmount</th>\n",
       "      <th>Loan_Amount_Term</th>\n",
       "      <th>Credit_History</th>\n",
       "      <th>Property_Area</th>\n",
       "      <th>Loan_Status</th>\n",
       "    </tr>\n",
       "  </thead>\n",
       "  <tbody>\n",
       "    <tr>\n",
       "      <th>0</th>\n",
       "      <td>LP001002</td>\n",
       "      <td>Male</td>\n",
       "      <td>No</td>\n",
       "      <td>0</td>\n",
       "      <td>Graduate</td>\n",
       "      <td>No</td>\n",
       "      <td>5849</td>\n",
       "      <td>0.0</td>\n",
       "      <td>NaN</td>\n",
       "      <td>360.0</td>\n",
       "      <td>1.0</td>\n",
       "      <td>Urban</td>\n",
       "      <td>Y</td>\n",
       "    </tr>\n",
       "    <tr>\n",
       "      <th>1</th>\n",
       "      <td>LP001003</td>\n",
       "      <td>Male</td>\n",
       "      <td>Yes</td>\n",
       "      <td>1</td>\n",
       "      <td>Graduate</td>\n",
       "      <td>No</td>\n",
       "      <td>4583</td>\n",
       "      <td>1508.0</td>\n",
       "      <td>128.0</td>\n",
       "      <td>360.0</td>\n",
       "      <td>1.0</td>\n",
       "      <td>Rural</td>\n",
       "      <td>N</td>\n",
       "    </tr>\n",
       "    <tr>\n",
       "      <th>2</th>\n",
       "      <td>LP001005</td>\n",
       "      <td>Male</td>\n",
       "      <td>Yes</td>\n",
       "      <td>0</td>\n",
       "      <td>Graduate</td>\n",
       "      <td>Yes</td>\n",
       "      <td>3000</td>\n",
       "      <td>0.0</td>\n",
       "      <td>66.0</td>\n",
       "      <td>360.0</td>\n",
       "      <td>1.0</td>\n",
       "      <td>Urban</td>\n",
       "      <td>Y</td>\n",
       "    </tr>\n",
       "    <tr>\n",
       "      <th>3</th>\n",
       "      <td>LP001006</td>\n",
       "      <td>Male</td>\n",
       "      <td>Yes</td>\n",
       "      <td>0</td>\n",
       "      <td>Not Graduate</td>\n",
       "      <td>No</td>\n",
       "      <td>2583</td>\n",
       "      <td>2358.0</td>\n",
       "      <td>120.0</td>\n",
       "      <td>360.0</td>\n",
       "      <td>1.0</td>\n",
       "      <td>Urban</td>\n",
       "      <td>Y</td>\n",
       "    </tr>\n",
       "    <tr>\n",
       "      <th>4</th>\n",
       "      <td>LP001008</td>\n",
       "      <td>Male</td>\n",
       "      <td>No</td>\n",
       "      <td>0</td>\n",
       "      <td>Graduate</td>\n",
       "      <td>No</td>\n",
       "      <td>6000</td>\n",
       "      <td>0.0</td>\n",
       "      <td>141.0</td>\n",
       "      <td>360.0</td>\n",
       "      <td>1.0</td>\n",
       "      <td>Urban</td>\n",
       "      <td>Y</td>\n",
       "    </tr>\n",
       "  </tbody>\n",
       "</table>\n",
       "</div>"
      ],
      "text/plain": [
       "    Loan_ID Gender Married Dependents     Education Self_Employed  \\\n",
       "0  LP001002   Male      No          0      Graduate            No   \n",
       "1  LP001003   Male     Yes          1      Graduate            No   \n",
       "2  LP001005   Male     Yes          0      Graduate           Yes   \n",
       "3  LP001006   Male     Yes          0  Not Graduate            No   \n",
       "4  LP001008   Male      No          0      Graduate            No   \n",
       "\n",
       "   ApplicantIncome  CoapplicantIncome  LoanAmount  Loan_Amount_Term  \\\n",
       "0             5849                0.0         NaN             360.0   \n",
       "1             4583             1508.0       128.0             360.0   \n",
       "2             3000                0.0        66.0             360.0   \n",
       "3             2583             2358.0       120.0             360.0   \n",
       "4             6000                0.0       141.0             360.0   \n",
       "\n",
       "   Credit_History Property_Area Loan_Status  \n",
       "0             1.0         Urban           Y  \n",
       "1             1.0         Rural           N  \n",
       "2             1.0         Urban           Y  \n",
       "3             1.0         Urban           Y  \n",
       "4             1.0         Urban           Y  "
      ]
     },
     "execution_count": 150,
     "metadata": {},
     "output_type": "execute_result"
    }
   ],
   "source": [
    "train.head()"
   ]
  },
  {
   "cell_type": "code",
   "execution_count": 151,
   "metadata": {},
   "outputs": [
    {
     "data": {
      "text/html": [
       "<div>\n",
       "<style scoped>\n",
       "    .dataframe tbody tr th:only-of-type {\n",
       "        vertical-align: middle;\n",
       "    }\n",
       "\n",
       "    .dataframe tbody tr th {\n",
       "        vertical-align: top;\n",
       "    }\n",
       "\n",
       "    .dataframe thead th {\n",
       "        text-align: right;\n",
       "    }\n",
       "</style>\n",
       "<table border=\"1\" class=\"dataframe\">\n",
       "  <thead>\n",
       "    <tr style=\"text-align: right;\">\n",
       "      <th></th>\n",
       "      <th>Loan_ID</th>\n",
       "      <th>Gender</th>\n",
       "      <th>Married</th>\n",
       "      <th>Dependents</th>\n",
       "      <th>Education</th>\n",
       "      <th>Self_Employed</th>\n",
       "      <th>ApplicantIncome</th>\n",
       "      <th>CoapplicantIncome</th>\n",
       "      <th>LoanAmount</th>\n",
       "      <th>Loan_Amount_Term</th>\n",
       "      <th>Credit_History</th>\n",
       "      <th>Property_Area</th>\n",
       "    </tr>\n",
       "  </thead>\n",
       "  <tbody>\n",
       "    <tr>\n",
       "      <th>0</th>\n",
       "      <td>LP001015</td>\n",
       "      <td>Male</td>\n",
       "      <td>Yes</td>\n",
       "      <td>0</td>\n",
       "      <td>Graduate</td>\n",
       "      <td>No</td>\n",
       "      <td>5720</td>\n",
       "      <td>0</td>\n",
       "      <td>110.0</td>\n",
       "      <td>360.0</td>\n",
       "      <td>1.0</td>\n",
       "      <td>Urban</td>\n",
       "    </tr>\n",
       "    <tr>\n",
       "      <th>1</th>\n",
       "      <td>LP001022</td>\n",
       "      <td>Male</td>\n",
       "      <td>Yes</td>\n",
       "      <td>1</td>\n",
       "      <td>Graduate</td>\n",
       "      <td>No</td>\n",
       "      <td>3076</td>\n",
       "      <td>1500</td>\n",
       "      <td>126.0</td>\n",
       "      <td>360.0</td>\n",
       "      <td>1.0</td>\n",
       "      <td>Urban</td>\n",
       "    </tr>\n",
       "    <tr>\n",
       "      <th>2</th>\n",
       "      <td>LP001031</td>\n",
       "      <td>Male</td>\n",
       "      <td>Yes</td>\n",
       "      <td>2</td>\n",
       "      <td>Graduate</td>\n",
       "      <td>No</td>\n",
       "      <td>5000</td>\n",
       "      <td>1800</td>\n",
       "      <td>208.0</td>\n",
       "      <td>360.0</td>\n",
       "      <td>1.0</td>\n",
       "      <td>Urban</td>\n",
       "    </tr>\n",
       "    <tr>\n",
       "      <th>3</th>\n",
       "      <td>LP001035</td>\n",
       "      <td>Male</td>\n",
       "      <td>Yes</td>\n",
       "      <td>2</td>\n",
       "      <td>Graduate</td>\n",
       "      <td>No</td>\n",
       "      <td>2340</td>\n",
       "      <td>2546</td>\n",
       "      <td>100.0</td>\n",
       "      <td>360.0</td>\n",
       "      <td>NaN</td>\n",
       "      <td>Urban</td>\n",
       "    </tr>\n",
       "    <tr>\n",
       "      <th>4</th>\n",
       "      <td>LP001051</td>\n",
       "      <td>Male</td>\n",
       "      <td>No</td>\n",
       "      <td>0</td>\n",
       "      <td>Not Graduate</td>\n",
       "      <td>No</td>\n",
       "      <td>3276</td>\n",
       "      <td>0</td>\n",
       "      <td>78.0</td>\n",
       "      <td>360.0</td>\n",
       "      <td>1.0</td>\n",
       "      <td>Urban</td>\n",
       "    </tr>\n",
       "  </tbody>\n",
       "</table>\n",
       "</div>"
      ],
      "text/plain": [
       "    Loan_ID Gender Married Dependents     Education Self_Employed  \\\n",
       "0  LP001015   Male     Yes          0      Graduate            No   \n",
       "1  LP001022   Male     Yes          1      Graduate            No   \n",
       "2  LP001031   Male     Yes          2      Graduate            No   \n",
       "3  LP001035   Male     Yes          2      Graduate            No   \n",
       "4  LP001051   Male      No          0  Not Graduate            No   \n",
       "\n",
       "   ApplicantIncome  CoapplicantIncome  LoanAmount  Loan_Amount_Term  \\\n",
       "0             5720                  0       110.0             360.0   \n",
       "1             3076               1500       126.0             360.0   \n",
       "2             5000               1800       208.0             360.0   \n",
       "3             2340               2546       100.0             360.0   \n",
       "4             3276                  0        78.0             360.0   \n",
       "\n",
       "   Credit_History Property_Area  \n",
       "0             1.0         Urban  \n",
       "1             1.0         Urban  \n",
       "2             1.0         Urban  \n",
       "3             NaN         Urban  \n",
       "4             1.0         Urban  "
      ]
     },
     "execution_count": 151,
     "metadata": {},
     "output_type": "execute_result"
    }
   ],
   "source": [
    "test.head()"
   ]
  },
  {
   "cell_type": "code",
   "execution_count": 152,
   "metadata": {},
   "outputs": [],
   "source": [
    "train['source'] = 'train'\n",
    "test['source'] = 'test'\n",
    "data = pd.concat([train, test], ignore_index=True, sort=True)"
   ]
  },
  {
   "cell_type": "code",
   "execution_count": 153,
   "metadata": {},
   "outputs": [
    {
     "data": {
      "text/html": [
       "<div>\n",
       "<style scoped>\n",
       "    .dataframe tbody tr th:only-of-type {\n",
       "        vertical-align: middle;\n",
       "    }\n",
       "\n",
       "    .dataframe tbody tr th {\n",
       "        vertical-align: top;\n",
       "    }\n",
       "\n",
       "    .dataframe thead th {\n",
       "        text-align: right;\n",
       "    }\n",
       "</style>\n",
       "<table border=\"1\" class=\"dataframe\">\n",
       "  <thead>\n",
       "    <tr style=\"text-align: right;\">\n",
       "      <th></th>\n",
       "      <th>ApplicantIncome</th>\n",
       "      <th>CoapplicantIncome</th>\n",
       "      <th>Credit_History</th>\n",
       "      <th>Dependents</th>\n",
       "      <th>Education</th>\n",
       "      <th>Gender</th>\n",
       "      <th>LoanAmount</th>\n",
       "      <th>Loan_Amount_Term</th>\n",
       "      <th>Loan_ID</th>\n",
       "      <th>Loan_Status</th>\n",
       "      <th>Married</th>\n",
       "      <th>Property_Area</th>\n",
       "      <th>Self_Employed</th>\n",
       "      <th>source</th>\n",
       "    </tr>\n",
       "  </thead>\n",
       "  <tbody>\n",
       "    <tr>\n",
       "      <th>0</th>\n",
       "      <td>5849</td>\n",
       "      <td>0.0</td>\n",
       "      <td>1.0</td>\n",
       "      <td>0</td>\n",
       "      <td>Graduate</td>\n",
       "      <td>Male</td>\n",
       "      <td>NaN</td>\n",
       "      <td>360.0</td>\n",
       "      <td>LP001002</td>\n",
       "      <td>Y</td>\n",
       "      <td>No</td>\n",
       "      <td>Urban</td>\n",
       "      <td>No</td>\n",
       "      <td>train</td>\n",
       "    </tr>\n",
       "    <tr>\n",
       "      <th>1</th>\n",
       "      <td>4583</td>\n",
       "      <td>1508.0</td>\n",
       "      <td>1.0</td>\n",
       "      <td>1</td>\n",
       "      <td>Graduate</td>\n",
       "      <td>Male</td>\n",
       "      <td>128.0</td>\n",
       "      <td>360.0</td>\n",
       "      <td>LP001003</td>\n",
       "      <td>N</td>\n",
       "      <td>Yes</td>\n",
       "      <td>Rural</td>\n",
       "      <td>No</td>\n",
       "      <td>train</td>\n",
       "    </tr>\n",
       "    <tr>\n",
       "      <th>2</th>\n",
       "      <td>3000</td>\n",
       "      <td>0.0</td>\n",
       "      <td>1.0</td>\n",
       "      <td>0</td>\n",
       "      <td>Graduate</td>\n",
       "      <td>Male</td>\n",
       "      <td>66.0</td>\n",
       "      <td>360.0</td>\n",
       "      <td>LP001005</td>\n",
       "      <td>Y</td>\n",
       "      <td>Yes</td>\n",
       "      <td>Urban</td>\n",
       "      <td>Yes</td>\n",
       "      <td>train</td>\n",
       "    </tr>\n",
       "  </tbody>\n",
       "</table>\n",
       "</div>"
      ],
      "text/plain": [
       "   ApplicantIncome  CoapplicantIncome  Credit_History Dependents Education  \\\n",
       "0             5849                0.0             1.0          0  Graduate   \n",
       "1             4583             1508.0             1.0          1  Graduate   \n",
       "2             3000                0.0             1.0          0  Graduate   \n",
       "\n",
       "  Gender  LoanAmount  Loan_Amount_Term   Loan_ID Loan_Status Married  \\\n",
       "0   Male         NaN             360.0  LP001002           Y      No   \n",
       "1   Male       128.0             360.0  LP001003           N     Yes   \n",
       "2   Male        66.0             360.0  LP001005           Y     Yes   \n",
       "\n",
       "  Property_Area Self_Employed source  \n",
       "0         Urban            No  train  \n",
       "1         Rural            No  train  \n",
       "2         Urban           Yes  train  "
      ]
     },
     "execution_count": 153,
     "metadata": {},
     "output_type": "execute_result"
    }
   ],
   "source": [
    "data.head(3)"
   ]
  },
  {
   "cell_type": "markdown",
   "metadata": {},
   "source": [
    "<h2>1. Data Exploration and Missing Values</h2>"
   ]
  },
  {
   "cell_type": "code",
   "execution_count": 154,
   "metadata": {},
   "outputs": [
    {
     "data": {
      "text/plain": [
       "ApplicantIncome        int64\n",
       "CoapplicantIncome    float64\n",
       "Credit_History       float64\n",
       "Dependents            object\n",
       "Education             object\n",
       "Gender                object\n",
       "LoanAmount           float64\n",
       "Loan_Amount_Term     float64\n",
       "Loan_ID               object\n",
       "Loan_Status           object\n",
       "Married               object\n",
       "Property_Area         object\n",
       "Self_Employed         object\n",
       "source                object\n",
       "dtype: object"
      ]
     },
     "execution_count": 154,
     "metadata": {},
     "output_type": "execute_result"
    }
   ],
   "source": [
    "data.dtypes"
   ]
  },
  {
   "cell_type": "code",
   "execution_count": 155,
   "metadata": {},
   "outputs": [
    {
     "data": {
      "text/plain": [
       "ApplicantIncome        0\n",
       "CoapplicantIncome      0\n",
       "Credit_History        79\n",
       "Dependents            25\n",
       "Education              0\n",
       "Gender                24\n",
       "LoanAmount            27\n",
       "Loan_Amount_Term      20\n",
       "Loan_ID                0\n",
       "Loan_Status          367\n",
       "Married                3\n",
       "Property_Area          0\n",
       "Self_Employed         55\n",
       "source                 0\n",
       "dtype: int64"
      ]
     },
     "execution_count": 155,
     "metadata": {},
     "output_type": "execute_result"
    }
   ],
   "source": [
    "data.apply(lambda x: sum(x.isnull()), axis=0)"
   ]
  },
  {
   "cell_type": "code",
   "execution_count": 156,
   "metadata": {},
   "outputs": [
    {
     "name": "stdout",
     "output_type": "stream",
     "text": [
      "number of rows which the percentage of null value bigger than threshold:  0 \n",
      "\n",
      "\n",
      "number of columns which the percentage of null value bigger than threshold:  0 \n",
      "\n",
      "\n"
     ]
    }
   ],
   "source": [
    "threshold = 0.7\n",
    "check_every_row = sum((data.isnull().mean(axis=1) > threshold).value_counts() == True)\n",
    "print('number of rows which the percentage of null value bigger than threshold: ', check_every_row, '\\n\\n')\n",
    "check_every_col = sum((data.isnull().mean() > threshold).value_counts() == True)\n",
    "print('number of columns which the percentage of null value bigger than threshold: ', check_every_col, '\\n\\n')\n",
    "\n",
    "#Dropping columns with missing value rate higher than threshold\n",
    "#data = data[data.columns[data.isnull().mean() < threshold]]\n",
    "\n",
    "#Dropping rows with missing value rate higher than threshold\n",
    "#data = data.loc[data.isnull().mean(axis=1) < threshold]"
   ]
  },
  {
   "cell_type": "code",
   "execution_count": 157,
   "metadata": {},
   "outputs": [
    {
     "name": "stdout",
     "output_type": "stream",
     "text": [
      "0     545\n",
      "1     160\n",
      "2     160\n",
      "3+     91\n",
      "Name: Dependents, dtype: int64 \n",
      "\n",
      "\n",
      "Graduate        763\n",
      "Not Graduate    218\n",
      "Name: Education, dtype: int64 \n",
      "\n",
      "\n",
      "Male      775\n",
      "Female    182\n",
      "Name: Gender, dtype: int64 \n",
      "\n",
      "\n",
      "Y    422\n",
      "N    192\n",
      "Name: Loan_Status, dtype: int64 \n",
      "\n",
      "\n",
      "Yes    631\n",
      "No     347\n",
      "Name: Married, dtype: int64 \n",
      "\n",
      "\n",
      "Semiurban    349\n",
      "Urban        342\n",
      "Rural        290\n",
      "Name: Property_Area, dtype: int64 \n",
      "\n",
      "\n",
      "No     807\n",
      "Yes    119\n",
      "Name: Self_Employed, dtype: int64 \n",
      "\n",
      "\n"
     ]
    }
   ],
   "source": [
    "col_list = [x for x in data.columns if data[x].dtypes == 'object' and x not in ['source', 'Loan_ID']]\n",
    "for x in col_list:\n",
    "    print(data[x].value_counts(), '\\n\\n')"
   ]
  },
  {
   "cell_type": "markdown",
   "metadata": {},
   "source": [
    "<h2>2. Numerical Imputation</h2>"
   ]
  },
  {
   "cell_type": "code",
   "execution_count": 158,
   "metadata": {},
   "outputs": [
    {
     "data": {
      "image/png": "[encoded data removed]",
      "text/plain": [
       "<Figure size 432x288 with 1 Axes>"
      ]
     },
     "metadata": {
      "needs_background": "light"
     },
     "output_type": "display_data"
    },
    {
     "data": {
      "image/png": "[encoded data removed]",
      "text/plain": [
       "<Figure size 432x288 with 1 Axes>"
      ]
     },
     "metadata": {
      "needs_background": "light"
     },
     "output_type": "display_data"
    },
    {
     "data": {
      "image/png": "[encoded data removed]",
      "text/plain": [
       "<Figure size 432x288 with 1 Axes>"
      ]
     },
     "metadata": {
      "needs_background": "light"
     },
     "output_type": "display_data"
    }
   ],
   "source": [
    "#Credit_History, LoanAmount, Loan_Amount_Term have missing values\n",
    "num_col = ['Credit_History', 'LoanAmount', 'Loan_Amount_Term']\n",
    "for x in num_col:\n",
    "    data[x].plot(kind='hist',bins=20)\n",
    "    plt.xlabel(x)\n",
    "    plt.show()\n",
    "\n",
    "#Filling all missing values with 0\n",
    "#data = data.fillna(0)\n",
    "#Filling missing values with medians of the columns\n",
    "#data = data.fillna(data.median())"
   ]
  },
  {
   "cell_type": "code",
   "execution_count": 159,
   "metadata": {},
   "outputs": [
    {
     "name": "stdout",
     "output_type": "stream",
     "text": [
      "null value in Credit_History:  0\n"
     ]
    }
   ],
   "source": [
    "data['Credit_History'].fillna(data['Credit_History'].mode()[0], inplace=True)\n",
    "print('null value in Credit_History: ', sum(data['Credit_History'].isnull()))"
   ]
  },
  {
   "cell_type": "code",
   "execution_count": 160,
   "metadata": {},
   "outputs": [
    {
     "name": "stdout",
     "output_type": "stream",
     "text": [
      "null value in LoanAmount:  0\n"
     ]
    }
   ],
   "source": [
    "data['LoanAmount'].fillna(data['LoanAmount'].median(), inplace=True)\n",
    "print('null value in LoanAmount: ', sum(data['LoanAmount'].isnull()))"
   ]
  },
  {
   "cell_type": "code",
   "execution_count": 161,
   "metadata": {},
   "outputs": [
    {
     "name": "stdout",
     "output_type": "stream",
     "text": [
      "values of Loan_Amount_Term: \n",
      " 360.0    823\n",
      "180.0     66\n",
      "480.0     23\n",
      "300.0     20\n",
      "240.0      8\n",
      "84.0       7\n",
      "120.0      4\n",
      "36.0       3\n",
      "60.0       3\n",
      "12.0       2\n",
      "350.0      1\n",
      "6.0        1\n",
      "Name: Loan_Amount_Term, dtype: int64 \n",
      "\n",
      "\n",
      "null value in Loan_Amount_Term:  0\n"
     ]
    }
   ],
   "source": [
    "print('values of Loan_Amount_Term: \\n',data['Loan_Amount_Term'].value_counts(), '\\n\\n')\n",
    "data['Loan_Amount_Term'].fillna(data['Loan_Amount_Term'].mode()[0], inplace=True)\n",
    "print('null value in Loan_Amount_Term: ', sum(data['Loan_Amount_Term'].isnull()))"
   ]
  },
  {
   "cell_type": "markdown",
   "metadata": {},
   "source": [
    "<h2>3. Categorical Imputation</h2>"
   ]
  },
  {
   "cell_type": "code",
   "execution_count": 162,
   "metadata": {},
   "outputs": [
    {
     "name": "stdout",
     "output_type": "stream",
     "text": [
      "null values in Gender:  0\n"
     ]
    }
   ],
   "source": [
    "#Dependents, Gender, Married, Self_Employed have missing values\n",
    "data['Gender'].fillna(data['Gender'].value_counts().idxmax(), inplace=True)\n",
    "print('null values in Gender: ', sum(data['Gender'].isnull()))"
   ]
  },
  {
   "cell_type": "code",
   "execution_count": 163,
   "metadata": {},
   "outputs": [
    {
     "name": "stdout",
     "output_type": "stream",
     "text": [
      "null values in  Dependents :  0 \n",
      "\n",
      "\n",
      "null values in  Married :  0 \n",
      "\n",
      "\n",
      "null values in  Self_Employed :  0 \n",
      "\n",
      "\n"
     ]
    }
   ],
   "source": [
    "categorical_list = ['Dependents', 'Married', 'Self_Employed']\n",
    "for x in categorical_list:\n",
    "    data[x].fillna(data[x].mode()[0], inplace=True)\n",
    "    print('null values in ', x, ': ', sum(data[x].isnull()), '\\n\\n')"
   ]
  },
  {
   "cell_type": "code",
   "execution_count": 164,
   "metadata": {},
   "outputs": [
    {
     "data": {
      "text/plain": [
       "ApplicantIncome        0\n",
       "CoapplicantIncome      0\n",
       "Credit_History         0\n",
       "Dependents             0\n",
       "Education              0\n",
       "Gender                 0\n",
       "LoanAmount             0\n",
       "Loan_Amount_Term       0\n",
       "Loan_ID                0\n",
       "Loan_Status          367\n",
       "Married                0\n",
       "Property_Area          0\n",
       "Self_Employed          0\n",
       "source                 0\n",
       "dtype: int64"
      ]
     },
     "execution_count": 164,
     "metadata": {},
     "output_type": "execute_result"
    }
   ],
   "source": [
    "data.apply(lambda x: sum(x.isnull()), axis=0)"
   ]
  },
  {
   "cell_type": "markdown",
   "metadata": {},
   "source": [
    "<h2>4. Handling Outliers</h2>"
   ]
  },
  {
   "cell_type": "code",
   "execution_count": 165,
   "metadata": {},
   "outputs": [
    {
     "data": {
      "image/png": "[encoded data removed]",
      "text/plain": [
       "<Figure size 432x288 with 1 Axes>"
      ]
     },
     "metadata": {
      "needs_background": "light"
     },
     "output_type": "display_data"
    },
    {
     "name": "stdout",
     "output_type": "stream",
     "text": [
      "number of outliers whose z-score is bigger than factor:  16\n"
     ]
    }
   ],
   "source": [
    "#use Z-score as standard\n",
    "train['ApplicantIncome'].plot(kind='hist', bins=20)\n",
    "plt.show()\n",
    "factor = 2\n",
    "print('number of outliers whose z-score is bigger than factor: ', sum(abs(stats.zscore(train['ApplicantIncome'])) > factor))"
   ]
  },
  {
   "cell_type": "code",
   "execution_count": 166,
   "metadata": {},
   "outputs": [
    {
     "name": "stdout",
     "output_type": "stream",
     "text": [
      "number of outliers detected by IQR:  50\n"
     ]
    }
   ],
   "source": [
    "# use IQR as standard\n",
    "Q1 = train['ApplicantIncome'].quantile(0.25)\n",
    "Q3 = train['ApplicantIncome'].quantile(0.75)\n",
    "IQR = Q3 - Q1\n",
    "outlier_of_col = (train['ApplicantIncome'] < Q1 - 1.5*IQR) | (train['ApplicantIncome'] > Q3 + 1.5*IQR)\n",
    "print('number of outliers detected by IQR: ', sum(outlier_of_col))"
   ]
  },
  {
   "cell_type": "code",
   "execution_count": 167,
   "metadata": {},
   "outputs": [
    {
     "name": "stdout",
     "output_type": "stream",
     "text": [
      "number of outliers detected by IQR:  0\n"
     ]
    }
   ],
   "source": [
    "#Capping the outlier rows with Percentiles\n",
    "column = 'ApplicantIncome'\n",
    "upper_lim = Q3 + 1.5*IQR\n",
    "lower_lim = Q1 - 1.5*IQR\n",
    "data.loc[(data[column] > upper_lim), column] = upper_lim\n",
    "data.loc[(data[column] < lower_lim), column] = lower_lim\n",
    "outlier_of_col = (data[column] < Q1 - 1.5*IQR) | (data[column] > Q3 + 1.5*IQR)\n",
    "print('number of outliers detected by IQR: ', sum(outlier_of_col))"
   ]
  },
  {
   "cell_type": "markdown",
   "metadata": {},
   "source": [
    "<h2>5. Bining</h2>"
   ]
  },
  {
   "cell_type": "markdown",
   "metadata": {},
   "source": [
    "The main motivation of binning is to make the model more robust and prevent overfitting, however, it has a cost to the performance. Every time you bin something, you sacrifice information and make your data more regularized."
   ]
  },
  {
   "cell_type": "markdown",
   "metadata": {},
   "source": [
    "For categorical columns, the labels with low frequencies probably affect the robustness of statistical models negatively. Thus, assigning a general category to these less frequent values helps to keep the robustness of the model."
   ]
  },
  {
   "cell_type": "code",
   "execution_count": 168,
   "metadata": {},
   "outputs": [
    {
     "data": {
      "image/png": "[encoded data removed]",
      "text/plain": [
       "<Figure size 432x288 with 1 Axes>"
      ]
     },
     "metadata": {
      "needs_background": "light"
     },
     "output_type": "display_data"
    },
    {
     "data": {
      "text/plain": [
       "Low       973\n",
       "Medium      6\n",
       "High        2\n",
       "Name: Categorical_CoapplicantIncome, dtype: int64"
      ]
     },
     "execution_count": 168,
     "metadata": {},
     "output_type": "execute_result"
    }
   ],
   "source": [
    "#numerical example \n",
    "data['CoapplicantIncome'].plot(kind='hist', bins=40)\n",
    "plt.show()\n",
    "bins = np.linspace(min(data['CoapplicantIncome']), max(data['CoapplicantIncome']), 4)\n",
    "group_name = ['Low', 'Medium', 'High']\n",
    "data['Categorical_CoapplicantIncome'] = pd.cut(data['CoapplicantIncome'], bins, labels=group_name, include_lowest=True)\n",
    "data['Categorical_CoapplicantIncome'].value_counts()"
   ]
  },
  {
   "cell_type": "code",
   "execution_count": 169,
   "metadata": {},
   "outputs": [
    {
     "name": "stdout",
     "output_type": "stream",
     "text": [
      "Semiurban    349\n",
      "Urban        342\n",
      "Rural        290\n",
      "Name: Property_Area, dtype: int64\n",
      "Urban    691\n",
      "Rural    290\n",
      "Name: Property_Area_reduced, dtype: int64\n",
      "Semi-developed    349\n",
      "Developed         342\n",
      "Undeveloped       290\n",
      "Name: Property_Area_reduced_1, dtype: int64\n"
     ]
    }
   ],
   "source": [
    "#categorical example\n",
    "print(data['Property_Area'].value_counts())\n",
    "group_name = ['Urban', 'Rural']\n",
    "data['Property_Area_reduced'] = data['Property_Area'].replace({'Semiurban':'Urban'})\n",
    "print(data['Property_Area_reduced'].value_counts())\n",
    "data['Property_Area_reduced_1'] = data['Property_Area'].map({'Urban':'Developed', 'Semiurban':'Semi-developed', 'Rural':'Undeveloped'})\n",
    "print(data['Property_Area_reduced_1'].value_counts())"
   ]
  },
  {
   "cell_type": "markdown",
   "metadata": {},
   "source": [
    "<h2>6. Data Transformation</h2>"
   ]
  },
  {
   "cell_type": "markdown",
   "metadata": {},
   "source": [
    "1. It helps to handle skewed data and after transformation, the distribution becomes more approximate to normal.\n",
    "2. It also decreases the effect of the outliers, due to the normalization of magnitude differences and the model become more robust\n",
    "\n",
    "<b>A critical note:</b> The data you apply log transform must have only positive values, otherwise you receive an error. Also, you can add 1 to your data before transform it. Thus, you ensure the output of the transformation to be positive."
   ]
  },
  {
   "cell_type": "code",
   "execution_count": 170,
   "metadata": {},
   "outputs": [
    {
     "data": {
      "image/png": "[encoded data removed]",
      "text/plain": [
       "<Figure size 432x288 with 1 Axes>"
      ]
     },
     "metadata": {
      "needs_background": "light"
     },
     "output_type": "display_data"
    },
    {
     "data": {
      "text/plain": [
       "<matplotlib.axes._subplots.AxesSubplot at 0x1bbced10>"
      ]
     },
     "execution_count": 170,
     "metadata": {},
     "output_type": "execute_result"
    },
    {
     "data": {
      "image/png": "[encoded data removed]",
      "text/plain": [
       "<Figure size 432x288 with 1 Axes>"
      ]
     },
     "metadata": {
      "needs_background": "light"
     },
     "output_type": "display_data"
    }
   ],
   "source": [
    "variable_log = 1000\n",
    "train['ApplicantIncome'].plot(kind='hist', bins=40)\n",
    "plt.show()\n",
    "df_transform = np.log(data['ApplicantIncome'] + variable_log)\n",
    "df_transform.plot(kind='hist', bins=40)"
   ]
  },
  {
   "cell_type": "code",
   "execution_count": 171,
   "metadata": {},
   "outputs": [
    {
     "data": {
      "text/plain": [
       "<matplotlib.axes._subplots.AxesSubplot at 0x1bbce550>"
      ]
     },
     "execution_count": 171,
     "metadata": {},
     "output_type": "execute_result"
    },
    {
     "data": {
      "image/png": "[encoded data removed]",
      "text/plain": [
       "<Figure size 432x288 with 1 Axes>"
      ]
     },
     "metadata": {
      "needs_background": "light"
     },
     "output_type": "display_data"
    }
   ],
   "source": [
    "factor = 0.5\n",
    "df_transform_1 = data['ApplicantIncome']**factor\n",
    "df_transform_1.plot(kind='hist', bins=40)"
   ]
  },
  {
   "cell_type": "markdown",
   "metadata": {},
   "source": [
    "<h2>7. One Hot Encoding</h2>"
   ]
  },
  {
   "cell_type": "markdown",
   "metadata": {},
   "source": [
    " This method spreads the values in a column to multiple flag columns and assigns 0 or 1 to them.\n",
    " This method changes your categorical data, which is challenging to understand for algorithms, to a numerical format."
   ]
  },
  {
   "cell_type": "code",
   "execution_count": 172,
   "metadata": {},
   "outputs": [
    {
     "data": {
      "text/html": [
       "<div>\n",
       "<style scoped>\n",
       "    .dataframe tbody tr th:only-of-type {\n",
       "        vertical-align: middle;\n",
       "    }\n",
       "\n",
       "    .dataframe tbody tr th {\n",
       "        vertical-align: top;\n",
       "    }\n",
       "\n",
       "    .dataframe thead th {\n",
       "        text-align: right;\n",
       "    }\n",
       "</style>\n",
       "<table border=\"1\" class=\"dataframe\">\n",
       "  <thead>\n",
       "    <tr style=\"text-align: right;\">\n",
       "      <th></th>\n",
       "      <th>ApplicantIncome</th>\n",
       "      <th>CoapplicantIncome</th>\n",
       "      <th>Credit_History</th>\n",
       "      <th>LoanAmount</th>\n",
       "      <th>Loan_Amount_Term</th>\n",
       "      <th>Loan_ID</th>\n",
       "      <th>source</th>\n",
       "      <th>Categorical_CoapplicantIncome</th>\n",
       "      <th>Dependents_0</th>\n",
       "      <th>Dependents_1</th>\n",
       "      <th>...</th>\n",
       "      <th>Gender_Male</th>\n",
       "      <th>Loan_Status_N</th>\n",
       "      <th>Loan_Status_Y</th>\n",
       "      <th>Married_No</th>\n",
       "      <th>Married_Yes</th>\n",
       "      <th>Property_Area_Rural</th>\n",
       "      <th>Property_Area_Semiurban</th>\n",
       "      <th>Property_Area_Urban</th>\n",
       "      <th>Self_Employed_No</th>\n",
       "      <th>Self_Employed_Yes</th>\n",
       "    </tr>\n",
       "  </thead>\n",
       "  <tbody>\n",
       "    <tr>\n",
       "      <th>0</th>\n",
       "      <td>5849.0</td>\n",
       "      <td>0.0</td>\n",
       "      <td>1.0</td>\n",
       "      <td>126.0</td>\n",
       "      <td>360.0</td>\n",
       "      <td>LP001002</td>\n",
       "      <td>train</td>\n",
       "      <td>Low</td>\n",
       "      <td>1</td>\n",
       "      <td>0</td>\n",
       "      <td>...</td>\n",
       "      <td>1</td>\n",
       "      <td>0</td>\n",
       "      <td>1</td>\n",
       "      <td>1</td>\n",
       "      <td>0</td>\n",
       "      <td>0</td>\n",
       "      <td>0</td>\n",
       "      <td>1</td>\n",
       "      <td>1</td>\n",
       "      <td>0</td>\n",
       "    </tr>\n",
       "    <tr>\n",
       "      <th>1</th>\n",
       "      <td>4583.0</td>\n",
       "      <td>1508.0</td>\n",
       "      <td>1.0</td>\n",
       "      <td>128.0</td>\n",
       "      <td>360.0</td>\n",
       "      <td>LP001003</td>\n",
       "      <td>train</td>\n",
       "      <td>Low</td>\n",
       "      <td>0</td>\n",
       "      <td>1</td>\n",
       "      <td>...</td>\n",
       "      <td>1</td>\n",
       "      <td>1</td>\n",
       "      <td>0</td>\n",
       "      <td>0</td>\n",
       "      <td>1</td>\n",
       "      <td>1</td>\n",
       "      <td>0</td>\n",
       "      <td>0</td>\n",
       "      <td>1</td>\n",
       "      <td>0</td>\n",
       "    </tr>\n",
       "    <tr>\n",
       "      <th>2</th>\n",
       "      <td>3000.0</td>\n",
       "      <td>0.0</td>\n",
       "      <td>1.0</td>\n",
       "      <td>66.0</td>\n",
       "      <td>360.0</td>\n",
       "      <td>LP001005</td>\n",
       "      <td>train</td>\n",
       "      <td>Low</td>\n",
       "      <td>1</td>\n",
       "      <td>0</td>\n",
       "      <td>...</td>\n",
       "      <td>1</td>\n",
       "      <td>0</td>\n",
       "      <td>1</td>\n",
       "      <td>0</td>\n",
       "      <td>1</td>\n",
       "      <td>0</td>\n",
       "      <td>0</td>\n",
       "      <td>1</td>\n",
       "      <td>0</td>\n",
       "      <td>1</td>\n",
       "    </tr>\n",
       "    <tr>\n",
       "      <th>3</th>\n",
       "      <td>2583.0</td>\n",
       "      <td>2358.0</td>\n",
       "      <td>1.0</td>\n",
       "      <td>120.0</td>\n",
       "      <td>360.0</td>\n",
       "      <td>LP001006</td>\n",
       "      <td>train</td>\n",
       "      <td>Low</td>\n",
       "      <td>1</td>\n",
       "      <td>0</td>\n",
       "      <td>...</td>\n",
       "      <td>1</td>\n",
       "      <td>0</td>\n",
       "      <td>1</td>\n",
       "      <td>0</td>\n",
       "      <td>1</td>\n",
       "      <td>0</td>\n",
       "      <td>0</td>\n",
       "      <td>1</td>\n",
       "      <td>1</td>\n",
       "      <td>0</td>\n",
       "    </tr>\n",
       "    <tr>\n",
       "      <th>4</th>\n",
       "      <td>6000.0</td>\n",
       "      <td>0.0</td>\n",
       "      <td>1.0</td>\n",
       "      <td>141.0</td>\n",
       "      <td>360.0</td>\n",
       "      <td>LP001008</td>\n",
       "      <td>train</td>\n",
       "      <td>Low</td>\n",
       "      <td>1</td>\n",
       "      <td>0</td>\n",
       "      <td>...</td>\n",
       "      <td>1</td>\n",
       "      <td>0</td>\n",
       "      <td>1</td>\n",
       "      <td>1</td>\n",
       "      <td>0</td>\n",
       "      <td>0</td>\n",
       "      <td>0</td>\n",
       "      <td>1</td>\n",
       "      <td>1</td>\n",
       "      <td>0</td>\n",
       "    </tr>\n",
       "  </tbody>\n",
       "</table>\n",
       "<p>5 rows × 25 columns</p>\n",
       "</div>"
      ],
      "text/plain": [
       "   ApplicantIncome  CoapplicantIncome  Credit_History  LoanAmount  \\\n",
       "0           5849.0                0.0             1.0       126.0   \n",
       "1           4583.0             1508.0             1.0       128.0   \n",
       "2           3000.0                0.0             1.0        66.0   \n",
       "3           2583.0             2358.0             1.0       120.0   \n",
       "4           6000.0                0.0             1.0       141.0   \n",
       "\n",
       "   Loan_Amount_Term   Loan_ID source Categorical_CoapplicantIncome  \\\n",
       "0             360.0  LP001002  train                           Low   \n",
       "1             360.0  LP001003  train                           Low   \n",
       "2             360.0  LP001005  train                           Low   \n",
       "3             360.0  LP001006  train                           Low   \n",
       "4             360.0  LP001008  train                           Low   \n",
       "\n",
       "   Dependents_0  Dependents_1  ...  Gender_Male  Loan_Status_N  Loan_Status_Y  \\\n",
       "0             1             0  ...            1              0              1   \n",
       "1             0             1  ...            1              1              0   \n",
       "2             1             0  ...            1              0              1   \n",
       "3             1             0  ...            1              0              1   \n",
       "4             1             0  ...            1              0              1   \n",
       "\n",
       "   Married_No  Married_Yes  Property_Area_Rural  Property_Area_Semiurban  \\\n",
       "0           1            0                    0                        0   \n",
       "1           0            1                    1                        0   \n",
       "2           0            1                    0                        0   \n",
       "3           0            1                    0                        0   \n",
       "4           1            0                    0                        0   \n",
       "\n",
       "   Property_Area_Urban  Self_Employed_No  Self_Employed_Yes  \n",
       "0                    1                 1                  0  \n",
       "1                    0                 1                  0  \n",
       "2                    1                 0                  1  \n",
       "3                    1                 1                  0  \n",
       "4                    1                 1                  0  \n",
       "\n",
       "[5 rows x 25 columns]"
      ]
     },
     "execution_count": 172,
     "metadata": {},
     "output_type": "execute_result"
    }
   ],
   "source": [
    "data.drop(columns=['Property_Area_reduced','Property_Area_reduced_1'], inplace=True)\n",
    "categoriacl_col_list = [x for x in data.columns  if data[x].dtypes == 'object' and x not in ['Loan_ID', 'source']]\n",
    "data = pd.get_dummies(data, columns=categoriacl_col_list, dtype='int8')\n",
    "data.head()"
   ]
  },
  {
   "cell_type": "code",
   "execution_count": 173,
   "metadata": {},
   "outputs": [
    {
     "data": {
      "text/plain": [
       "ApplicantIncome                   float64\n",
       "CoapplicantIncome                 float64\n",
       "Credit_History                    float64\n",
       "LoanAmount                        float64\n",
       "Loan_Amount_Term                  float64\n",
       "Loan_ID                            object\n",
       "source                             object\n",
       "Categorical_CoapplicantIncome    category\n",
       "Dependents_0                         int8\n",
       "Dependents_1                         int8\n",
       "Dependents_2                         int8\n",
       "Dependents_3+                        int8\n",
       "Education_Graduate                   int8\n",
       "Education_Not Graduate               int8\n",
       "Gender_Female                        int8\n",
       "Gender_Male                          int8\n",
       "Loan_Status_N                        int8\n",
       "Loan_Status_Y                        int8\n",
       "Married_No                           int8\n",
       "Married_Yes                          int8\n",
       "Property_Area_Rural                  int8\n",
       "Property_Area_Semiurban              int8\n",
       "Property_Area_Urban                  int8\n",
       "Self_Employed_No                     int8\n",
       "Self_Employed_Yes                    int8\n",
       "dtype: object"
      ]
     },
     "execution_count": 173,
     "metadata": {},
     "output_type": "execute_result"
    }
   ],
   "source": [
    "data.dtypes"
   ]
  },
  {
   "cell_type": "markdown",
   "metadata": {},
   "source": [
    "<h2>8. Grouping Operations</h2>"
   ]
  },
  {
   "cell_type": "markdown",
   "metadata": {},
   "source": [
    "1. Categorical Column Grouping\n",
    "2. Numerical Column Grouping\n",
    "3. Grouping Rows by Time"
   ]
  },
  {
   "cell_type": "code",
   "execution_count": 174,
   "metadata": {},
   "outputs": [
    {
     "data": {
      "text/html": [
       "<div>\n",
       "<style scoped>\n",
       "    .dataframe tbody tr th:only-of-type {\n",
       "        vertical-align: middle;\n",
       "    }\n",
       "\n",
       "    .dataframe tbody tr th {\n",
       "        vertical-align: top;\n",
       "    }\n",
       "\n",
       "    .dataframe thead th {\n",
       "        text-align: right;\n",
       "    }\n",
       "</style>\n",
       "<table border=\"1\" class=\"dataframe\">\n",
       "  <thead>\n",
       "    <tr style=\"text-align: right;\">\n",
       "      <th></th>\n",
       "      <th>LoanAmount</th>\n",
       "    </tr>\n",
       "    <tr>\n",
       "      <th>Categorical_CoapplicantIncome</th>\n",
       "      <th></th>\n",
       "    </tr>\n",
       "  </thead>\n",
       "  <tbody>\n",
       "    <tr>\n",
       "      <th>Low</th>\n",
       "      <td>126.0</td>\n",
       "    </tr>\n",
       "    <tr>\n",
       "      <th>Medium</th>\n",
       "      <td>106.0</td>\n",
       "    </tr>\n",
       "    <tr>\n",
       "      <th>High</th>\n",
       "      <td>350.0</td>\n",
       "    </tr>\n",
       "  </tbody>\n",
       "</table>\n",
       "</div>"
      ],
      "text/plain": [
       "                               LoanAmount\n",
       "Categorical_CoapplicantIncome            \n",
       "Low                                 126.0\n",
       "Medium                              106.0\n",
       "High                                350.0"
      ]
     },
     "execution_count": 174,
     "metadata": {},
     "output_type": "execute_result"
    }
   ],
   "source": [
    "data[['LoanAmount', 'Categorical_CoapplicantIncome']].groupby('Categorical_CoapplicantIncome').agg(lambda x: x.value_counts().idxmax()) #x.mode()"
   ]
  },
  {
   "cell_type": "code",
   "execution_count": 175,
   "metadata": {},
   "outputs": [
    {
     "data": {
      "text/html": [
       "<div>\n",
       "<style scoped>\n",
       "    .dataframe tbody tr th:only-of-type {\n",
       "        vertical-align: middle;\n",
       "    }\n",
       "\n",
       "    .dataframe tbody tr th {\n",
       "        vertical-align: top;\n",
       "    }\n",
       "\n",
       "    .dataframe thead th {\n",
       "        text-align: right;\n",
       "    }\n",
       "</style>\n",
       "<table border=\"1\" class=\"dataframe\">\n",
       "  <thead>\n",
       "    <tr style=\"text-align: right;\">\n",
       "      <th></th>\n",
       "      <th>LoanAmount</th>\n",
       "    </tr>\n",
       "    <tr>\n",
       "      <th>Categorical_CoapplicantIncome</th>\n",
       "      <th></th>\n",
       "    </tr>\n",
       "  </thead>\n",
       "  <tbody>\n",
       "    <tr>\n",
       "      <th>Low</th>\n",
       "      <td>126</td>\n",
       "    </tr>\n",
       "    <tr>\n",
       "      <th>Medium</th>\n",
       "      <td>[102.0, 103.0, 106.0, 130.0, 148.0, 239.0]</td>\n",
       "    </tr>\n",
       "    <tr>\n",
       "      <th>High</th>\n",
       "      <td>[90.0, 350.0]</td>\n",
       "    </tr>\n",
       "  </tbody>\n",
       "</table>\n",
       "</div>"
      ],
      "text/plain": [
       "                                                               LoanAmount\n",
       "Categorical_CoapplicantIncome                                            \n",
       "Low                                                                   126\n",
       "Medium                         [102.0, 103.0, 106.0, 130.0, 148.0, 239.0]\n",
       "High                                                        [90.0, 350.0]"
      ]
     },
     "execution_count": 175,
     "metadata": {},
     "output_type": "execute_result"
    }
   ],
   "source": [
    "data.pivot_table(index='Categorical_CoapplicantIncome', values='LoanAmount', aggfunc=lambda x: x.mode())"
   ]
  },
  {
   "cell_type": "code",
   "execution_count": 176,
   "metadata": {},
   "outputs": [
    {
     "data": {
      "text/html": [
       "<div>\n",
       "<style scoped>\n",
       "    .dataframe tbody tr th:only-of-type {\n",
       "        vertical-align: middle;\n",
       "    }\n",
       "\n",
       "    .dataframe tbody tr th {\n",
       "        vertical-align: top;\n",
       "    }\n",
       "\n",
       "    .dataframe thead th {\n",
       "        text-align: right;\n",
       "    }\n",
       "</style>\n",
       "<table border=\"1\" class=\"dataframe\">\n",
       "  <thead>\n",
       "    <tr style=\"text-align: right;\">\n",
       "      <th></th>\n",
       "      <th>LoanAmount</th>\n",
       "    </tr>\n",
       "    <tr>\n",
       "      <th>Categorical_CoapplicantIncome</th>\n",
       "      <th></th>\n",
       "    </tr>\n",
       "  </thead>\n",
       "  <tbody>\n",
       "    <tr>\n",
       "      <th>Low</th>\n",
       "      <td>973.0</td>\n",
       "    </tr>\n",
       "    <tr>\n",
       "      <th>Medium</th>\n",
       "      <td>6.0</td>\n",
       "    </tr>\n",
       "    <tr>\n",
       "      <th>High</th>\n",
       "      <td>2.0</td>\n",
       "    </tr>\n",
       "  </tbody>\n",
       "</table>\n",
       "</div>"
      ],
      "text/plain": [
       "                               LoanAmount\n",
       "Categorical_CoapplicantIncome            \n",
       "Low                                 973.0\n",
       "Medium                                6.0\n",
       "High                                  2.0"
      ]
     },
     "execution_count": 176,
     "metadata": {},
     "output_type": "execute_result"
    }
   ],
   "source": [
    "data[['LoanAmount', 'Categorical_CoapplicantIncome']].groupby('Categorical_CoapplicantIncome').agg(lambda x: x.count())"
   ]
  },
  {
   "cell_type": "code",
   "execution_count": 177,
   "metadata": {},
   "outputs": [
    {
     "data": {
      "text/plain": [
       "Dependents_0  Dependents_1  Dependents_2  Dependents_3+\n",
       "0             0             0             1                5295.057692\n",
       "                            1             0                4695.376562\n",
       "              1             0             0                4786.318750\n",
       "1             0             0             0                4272.103509\n",
       "Name: ApplicantIncome_Mean, dtype: float64"
      ]
     },
     "execution_count": 177,
     "metadata": {},
     "output_type": "execute_result"
    }
   ],
   "source": [
    "group = data.groupby(['Dependents_0', 'Dependents_1', 'Dependents_2', 'Dependents_3+'])\n",
    "mean_appincome = group['ApplicantIncome'].mean()\n",
    "mean_appincome.rename('ApplicantIncome_Mean', inplace=True)"
   ]
  },
  {
   "cell_type": "code",
   "execution_count": 178,
   "metadata": {},
   "outputs": [
    {
     "data": {
      "text/plain": [
       "Dependents_0  Dependents_1  Dependents_2  Dependents_3+\n",
       "0             0             0             1                 481850.25\n",
       "                            1             0                 751260.25\n",
       "              1             0             0                 765811.00\n",
       "1             0             0             0                2435099.00\n",
       "Name: ApplicantIncome_Sum, dtype: float64"
      ]
     },
     "execution_count": 178,
     "metadata": {},
     "output_type": "execute_result"
    }
   ],
   "source": [
    "sum_appincome = group['ApplicantIncome'].sum()\n",
    "sum_appincome.rename('ApplicantIncome_Sum', inplace=True)\n"
   ]
  },
  {
   "cell_type": "code",
   "execution_count": 179,
   "metadata": {},
   "outputs": [
    {
     "data": {
      "text/html": [
       "<div>\n",
       "<style scoped>\n",
       "    .dataframe tbody tr th:only-of-type {\n",
       "        vertical-align: middle;\n",
       "    }\n",
       "\n",
       "    .dataframe tbody tr th {\n",
       "        vertical-align: top;\n",
       "    }\n",
       "\n",
       "    .dataframe thead th {\n",
       "        text-align: right;\n",
       "    }\n",
       "</style>\n",
       "<table border=\"1\" class=\"dataframe\">\n",
       "  <thead>\n",
       "    <tr style=\"text-align: right;\">\n",
       "      <th></th>\n",
       "      <th></th>\n",
       "      <th></th>\n",
       "      <th></th>\n",
       "      <th>ApplicantIncome_Mean</th>\n",
       "      <th>ApplicantIncome_Sum</th>\n",
       "    </tr>\n",
       "    <tr>\n",
       "      <th>Dependents_0</th>\n",
       "      <th>Dependents_1</th>\n",
       "      <th>Dependents_2</th>\n",
       "      <th>Dependents_3+</th>\n",
       "      <th></th>\n",
       "      <th></th>\n",
       "    </tr>\n",
       "  </thead>\n",
       "  <tbody>\n",
       "    <tr>\n",
       "      <th rowspan=\"3\" valign=\"top\">0</th>\n",
       "      <th rowspan=\"2\" valign=\"top\">0</th>\n",
       "      <th>0</th>\n",
       "      <th>1</th>\n",
       "      <td>5295.057692</td>\n",
       "      <td>481850.25</td>\n",
       "    </tr>\n",
       "    <tr>\n",
       "      <th>1</th>\n",
       "      <th>0</th>\n",
       "      <td>4695.376562</td>\n",
       "      <td>751260.25</td>\n",
       "    </tr>\n",
       "    <tr>\n",
       "      <th>1</th>\n",
       "      <th>0</th>\n",
       "      <th>0</th>\n",
       "      <td>4786.318750</td>\n",
       "      <td>765811.00</td>\n",
       "    </tr>\n",
       "    <tr>\n",
       "      <th>1</th>\n",
       "      <th>0</th>\n",
       "      <th>0</th>\n",
       "      <th>0</th>\n",
       "      <td>4272.103509</td>\n",
       "      <td>2435099.00</td>\n",
       "    </tr>\n",
       "  </tbody>\n",
       "</table>\n",
       "</div>"
      ],
      "text/plain": [
       "                                                      ApplicantIncome_Mean  \\\n",
       "Dependents_0 Dependents_1 Dependents_2 Dependents_3+                         \n",
       "0            0            0            1                       5295.057692   \n",
       "                          1            0                       4695.376562   \n",
       "             1            0            0                       4786.318750   \n",
       "1            0            0            0                       4272.103509   \n",
       "\n",
       "                                                      ApplicantIncome_Sum  \n",
       "Dependents_0 Dependents_1 Dependents_2 Dependents_3+                       \n",
       "0            0            0            1                        481850.25  \n",
       "                          1            0                        751260.25  \n",
       "             1            0            0                        765811.00  \n",
       "1            0            0            0                       2435099.00  "
      ]
     },
     "execution_count": 179,
     "metadata": {},
     "output_type": "execute_result"
    }
   ],
   "source": [
    "mean_sum_appincome = pd.concat([mean_appincome, sum_appincome], axis=1) \n",
    "mean_sum_appincome"
   ]
  },
  {
   "cell_type": "code",
   "execution_count": 180,
   "metadata": {},
   "outputs": [
    {
     "data": {
      "text/html": [
       "<div>\n",
       "<style scoped>\n",
       "    .dataframe tbody tr th:only-of-type {\n",
       "        vertical-align: middle;\n",
       "    }\n",
       "\n",
       "    .dataframe tbody tr th {\n",
       "        vertical-align: top;\n",
       "    }\n",
       "\n",
       "    .dataframe thead th {\n",
       "        text-align: right;\n",
       "    }\n",
       "</style>\n",
       "<table border=\"1\" class=\"dataframe\">\n",
       "  <thead>\n",
       "    <tr style=\"text-align: right;\">\n",
       "      <th></th>\n",
       "      <th>Sale_Amount</th>\n",
       "    </tr>\n",
       "  </thead>\n",
       "  <tbody>\n",
       "    <tr>\n",
       "      <th>2019-12-15 00:00:00</th>\n",
       "      <td>5</td>\n",
       "    </tr>\n",
       "    <tr>\n",
       "      <th>2019-12-15 00:01:00</th>\n",
       "      <td>5</td>\n",
       "    </tr>\n",
       "    <tr>\n",
       "      <th>2019-12-15 00:02:00</th>\n",
       "      <td>2</td>\n",
       "    </tr>\n",
       "    <tr>\n",
       "      <th>2019-12-15 00:03:00</th>\n",
       "      <td>1</td>\n",
       "    </tr>\n",
       "    <tr>\n",
       "      <th>2019-12-15 00:04:00</th>\n",
       "      <td>4</td>\n",
       "    </tr>\n",
       "    <tr>\n",
       "      <th>...</th>\n",
       "      <td>...</td>\n",
       "    </tr>\n",
       "    <tr>\n",
       "      <th>2020-02-22 10:35:00</th>\n",
       "      <td>8</td>\n",
       "    </tr>\n",
       "    <tr>\n",
       "      <th>2020-02-22 10:36:00</th>\n",
       "      <td>3</td>\n",
       "    </tr>\n",
       "    <tr>\n",
       "      <th>2020-02-22 10:37:00</th>\n",
       "      <td>4</td>\n",
       "    </tr>\n",
       "    <tr>\n",
       "      <th>2020-02-22 10:38:00</th>\n",
       "      <td>5</td>\n",
       "    </tr>\n",
       "    <tr>\n",
       "      <th>2020-02-22 10:39:00</th>\n",
       "      <td>7</td>\n",
       "    </tr>\n",
       "  </tbody>\n",
       "</table>\n",
       "<p>100000 rows × 1 columns</p>\n",
       "</div>"
      ],
      "text/plain": [
       "                     Sale_Amount\n",
       "2019-12-15 00:00:00            5\n",
       "2019-12-15 00:01:00            5\n",
       "2019-12-15 00:02:00            2\n",
       "2019-12-15 00:03:00            1\n",
       "2019-12-15 00:04:00            4\n",
       "...                          ...\n",
       "2020-02-22 10:35:00            8\n",
       "2020-02-22 10:36:00            3\n",
       "2020-02-22 10:37:00            4\n",
       "2020-02-22 10:38:00            5\n",
       "2020-02-22 10:39:00            7\n",
       "\n",
       "[100000 rows x 1 columns]"
      ]
     },
     "execution_count": 180,
     "metadata": {},
     "output_type": "execute_result"
    }
   ],
   "source": [
    "# Create date range\n",
    "time_index = pd.date_range('2019/12/15', periods=100000, freq='1Min')\n",
    "df_time = pd.DataFrame(index=time_index)\n",
    "# Create column of random values\n",
    "df_time['Sale_Amount'] = np.random.randint(1, 10, 100000)\n",
    "df_time"
   ]
  },
  {
   "cell_type": "code",
   "execution_count": 181,
   "metadata": {},
   "outputs": [
    {
     "data": {
      "text/html": [
       "<div>\n",
       "<style scoped>\n",
       "    .dataframe tbody tr th:only-of-type {\n",
       "        vertical-align: middle;\n",
       "    }\n",
       "\n",
       "    .dataframe tbody tr th {\n",
       "        vertical-align: top;\n",
       "    }\n",
       "\n",
       "    .dataframe thead th {\n",
       "        text-align: right;\n",
       "    }\n",
       "</style>\n",
       "<table border=\"1\" class=\"dataframe\">\n",
       "  <thead>\n",
       "    <tr style=\"text-align: right;\">\n",
       "      <th></th>\n",
       "      <th>Sale_Amount</th>\n",
       "    </tr>\n",
       "  </thead>\n",
       "  <tbody>\n",
       "    <tr>\n",
       "      <th>2019-12-15</th>\n",
       "      <td>7028</td>\n",
       "    </tr>\n",
       "    <tr>\n",
       "      <th>2019-12-22</th>\n",
       "      <td>49865</td>\n",
       "    </tr>\n",
       "    <tr>\n",
       "      <th>2019-12-29</th>\n",
       "      <td>50152</td>\n",
       "    </tr>\n",
       "    <tr>\n",
       "      <th>2020-01-05</th>\n",
       "      <td>50455</td>\n",
       "    </tr>\n",
       "    <tr>\n",
       "      <th>2020-01-12</th>\n",
       "      <td>50418</td>\n",
       "    </tr>\n",
       "  </tbody>\n",
       "</table>\n",
       "</div>"
      ],
      "text/plain": [
       "            Sale_Amount\n",
       "2019-12-15         7028\n",
       "2019-12-22        49865\n",
       "2019-12-29        50152\n",
       "2020-01-05        50455\n",
       "2020-01-12        50418"
      ]
     },
     "execution_count": 181,
     "metadata": {},
     "output_type": "execute_result"
    }
   ],
   "source": [
    "#df.resample.aggregation_function\n",
    "df_time.resample('W').sum().head()"
   ]
  },
  {
   "cell_type": "code",
   "execution_count": 182,
   "metadata": {},
   "outputs": [
    {
     "data": {
      "text/html": [
       "<div>\n",
       "<style scoped>\n",
       "    .dataframe tbody tr th:only-of-type {\n",
       "        vertical-align: middle;\n",
       "    }\n",
       "\n",
       "    .dataframe tbody tr th {\n",
       "        vertical-align: top;\n",
       "    }\n",
       "\n",
       "    .dataframe thead th {\n",
       "        text-align: right;\n",
       "    }\n",
       "</style>\n",
       "<table border=\"1\" class=\"dataframe\">\n",
       "  <thead>\n",
       "    <tr style=\"text-align: right;\">\n",
       "      <th></th>\n",
       "      <th>Sale_Amount</th>\n",
       "    </tr>\n",
       "  </thead>\n",
       "  <tbody>\n",
       "    <tr>\n",
       "      <th>2019-12-31</th>\n",
       "      <td>121509</td>\n",
       "    </tr>\n",
       "    <tr>\n",
       "      <th>2020-01-31</th>\n",
       "      <td>223142</td>\n",
       "    </tr>\n",
       "    <tr>\n",
       "      <th>2020-02-29</th>\n",
       "      <td>153823</td>\n",
       "    </tr>\n",
       "  </tbody>\n",
       "</table>\n",
       "</div>"
      ],
      "text/plain": [
       "            Sale_Amount\n",
       "2019-12-31       121509\n",
       "2020-01-31       223142\n",
       "2020-02-29       153823"
      ]
     },
     "execution_count": 182,
     "metadata": {},
     "output_type": "execute_result"
    }
   ],
   "source": [
    "df_time.resample('M').sum().head()"
   ]
  },
  {
   "cell_type": "markdown",
   "metadata": {},
   "source": [
    "By default resample returns the label of the right “edge” (the last label) of the time group. We can control this behavior using the <b>label</b> parameter:"
   ]
  },
  {
   "cell_type": "code",
   "execution_count": 183,
   "metadata": {},
   "outputs": [
    {
     "data": {
      "text/html": [
       "<div>\n",
       "<style scoped>\n",
       "    .dataframe tbody tr th:only-of-type {\n",
       "        vertical-align: middle;\n",
       "    }\n",
       "\n",
       "    .dataframe tbody tr th {\n",
       "        vertical-align: top;\n",
       "    }\n",
       "\n",
       "    .dataframe thead th {\n",
       "        text-align: right;\n",
       "    }\n",
       "</style>\n",
       "<table border=\"1\" class=\"dataframe\">\n",
       "  <thead>\n",
       "    <tr style=\"text-align: right;\">\n",
       "      <th></th>\n",
       "      <th>Sale_Amount</th>\n",
       "    </tr>\n",
       "  </thead>\n",
       "  <tbody>\n",
       "    <tr>\n",
       "      <th>2019-11-30</th>\n",
       "      <td>121509</td>\n",
       "    </tr>\n",
       "    <tr>\n",
       "      <th>2019-12-31</th>\n",
       "      <td>223142</td>\n",
       "    </tr>\n",
       "    <tr>\n",
       "      <th>2020-01-31</th>\n",
       "      <td>153823</td>\n",
       "    </tr>\n",
       "  </tbody>\n",
       "</table>\n",
       "</div>"
      ],
      "text/plain": [
       "            Sale_Amount\n",
       "2019-11-30       121509\n",
       "2019-12-31       223142\n",
       "2020-01-31       153823"
      ]
     },
     "execution_count": 183,
     "metadata": {},
     "output_type": "execute_result"
    }
   ],
   "source": [
    "df_time.resample('M' , label='left').sum().head()"
   ]
  },
  {
   "cell_type": "markdown",
   "metadata": {},
   "source": [
    "<h2>9. Feature Split</h2>"
   ]
  },
  {
   "cell_type": "code",
   "execution_count": 184,
   "metadata": {},
   "outputs": [
    {
     "data": {
      "text/html": [
       "<div>\n",
       "<style scoped>\n",
       "    .dataframe tbody tr th:only-of-type {\n",
       "        vertical-align: middle;\n",
       "    }\n",
       "\n",
       "    .dataframe tbody tr th {\n",
       "        vertical-align: top;\n",
       "    }\n",
       "\n",
       "    .dataframe thead th {\n",
       "        text-align: right;\n",
       "    }\n",
       "</style>\n",
       "<table border=\"1\" class=\"dataframe\">\n",
       "  <thead>\n",
       "    <tr style=\"text-align: right;\">\n",
       "      <th></th>\n",
       "      <th>Name</th>\n",
       "      <th>Birthday</th>\n",
       "    </tr>\n",
       "    <tr>\n",
       "      <th>ID</th>\n",
       "      <th></th>\n",
       "      <th></th>\n",
       "    </tr>\n",
       "  </thead>\n",
       "  <tbody>\n",
       "    <tr>\n",
       "      <th>ID001</th>\n",
       "      <td>Benson Chen</td>\n",
       "      <td>(1990)-02-05</td>\n",
       "    </tr>\n",
       "    <tr>\n",
       "      <th>ID002</th>\n",
       "      <td>Jason Wang</td>\n",
       "      <td>(1969)-09-23</td>\n",
       "    </tr>\n",
       "    <tr>\n",
       "      <th>ID003</th>\n",
       "      <td>Anderson J. Rose</td>\n",
       "      <td>(1954)-11-10</td>\n",
       "    </tr>\n",
       "    <tr>\n",
       "      <th>ID004</th>\n",
       "      <td>Jeff Chang</td>\n",
       "      <td>(1995)-04-04</td>\n",
       "    </tr>\n",
       "    <tr>\n",
       "      <th>ID005</th>\n",
       "      <td>Terry Lawson</td>\n",
       "      <td>(2001)-08-25</td>\n",
       "    </tr>\n",
       "  </tbody>\n",
       "</table>\n",
       "</div>"
      ],
      "text/plain": [
       "                   Name      Birthday\n",
       "ID                                   \n",
       "ID001       Benson Chen  (1990)-02-05\n",
       "ID002        Jason Wang  (1969)-09-23\n",
       "ID003  Anderson J. Rose  (1954)-11-10\n",
       "ID004        Jeff Chang  (1995)-04-04\n",
       "ID005      Terry Lawson  (2001)-08-25"
      ]
     },
     "execution_count": 184,
     "metadata": {},
     "output_type": "execute_result"
    }
   ],
   "source": [
    "name = ['Benson Chen', 'Jason Wang', 'Anderson J. Rose', 'Jeff Chang', 'Terry Lawson']\n",
    "birthday = ['(1990)-02-05', '(1969)-09-23', '(1954)-11-10', '(1995)-04-04', '(2001)-08-25']\n",
    "id_emp = ['ID001', 'ID002', 'ID003', 'ID004', 'ID005'] \n",
    "dict_emp = {'Name':name, 'Birthday':birthday} \n",
    "df_emp = pd.DataFrame(index=id_emp, data=dict_emp)\n",
    "df_emp.index.set_names('ID', inplace=True)\n",
    "# df_emp.index.rename('ID', inplace=True)\n",
    "df_emp"
   ]
  },
  {
   "cell_type": "code",
   "execution_count": 185,
   "metadata": {},
   "outputs": [
    {
     "data": {
      "text/html": [
       "<div>\n",
       "<style scoped>\n",
       "    .dataframe tbody tr th:only-of-type {\n",
       "        vertical-align: middle;\n",
       "    }\n",
       "\n",
       "    .dataframe tbody tr th {\n",
       "        vertical-align: top;\n",
       "    }\n",
       "\n",
       "    .dataframe thead th {\n",
       "        text-align: right;\n",
       "    }\n",
       "</style>\n",
       "<table border=\"1\" class=\"dataframe\">\n",
       "  <thead>\n",
       "    <tr style=\"text-align: right;\">\n",
       "      <th></th>\n",
       "      <th>Name</th>\n",
       "      <th>Birthday</th>\n",
       "      <th>First_Name</th>\n",
       "      <th>Last_Name</th>\n",
       "    </tr>\n",
       "    <tr>\n",
       "      <th>ID</th>\n",
       "      <th></th>\n",
       "      <th></th>\n",
       "      <th></th>\n",
       "      <th></th>\n",
       "    </tr>\n",
       "  </thead>\n",
       "  <tbody>\n",
       "    <tr>\n",
       "      <th>ID001</th>\n",
       "      <td>Benson Chen</td>\n",
       "      <td>(1990)-02-05</td>\n",
       "      <td>Benson</td>\n",
       "      <td>Chen</td>\n",
       "    </tr>\n",
       "    <tr>\n",
       "      <th>ID002</th>\n",
       "      <td>Jason Wang</td>\n",
       "      <td>(1969)-09-23</td>\n",
       "      <td>Jason</td>\n",
       "      <td>Wang</td>\n",
       "    </tr>\n",
       "    <tr>\n",
       "      <th>ID003</th>\n",
       "      <td>Anderson J. Rose</td>\n",
       "      <td>(1954)-11-10</td>\n",
       "      <td>Anderson</td>\n",
       "      <td>Rose</td>\n",
       "    </tr>\n",
       "    <tr>\n",
       "      <th>ID004</th>\n",
       "      <td>Jeff Chang</td>\n",
       "      <td>(1995)-04-04</td>\n",
       "      <td>Jeff</td>\n",
       "      <td>Chang</td>\n",
       "    </tr>\n",
       "    <tr>\n",
       "      <th>ID005</th>\n",
       "      <td>Terry Lawson</td>\n",
       "      <td>(2001)-08-25</td>\n",
       "      <td>Terry</td>\n",
       "      <td>Lawson</td>\n",
       "    </tr>\n",
       "  </tbody>\n",
       "</table>\n",
       "</div>"
      ],
      "text/plain": [
       "                   Name      Birthday First_Name Last_Name\n",
       "ID                                                        \n",
       "ID001       Benson Chen  (1990)-02-05     Benson      Chen\n",
       "ID002        Jason Wang  (1969)-09-23      Jason      Wang\n",
       "ID003  Anderson J. Rose  (1954)-11-10   Anderson      Rose\n",
       "ID004        Jeff Chang  (1995)-04-04       Jeff     Chang\n",
       "ID005      Terry Lawson  (2001)-08-25      Terry    Lawson"
      ]
     },
     "execution_count": 185,
     "metadata": {},
     "output_type": "execute_result"
    }
   ],
   "source": [
    "df_emp['First_Name'] = df_emp['Name'].str.split(' ').map(lambda x: x[0])\n",
    "df_emp['Last_Name'] = df_emp['Name'].str.split(' ').map(lambda x: x[-1])\n",
    "# same as df_emp['First_Name'] = df_emp['Name'].str.split(' ').apply(lambda x: x[0])\n",
    "df_emp"
   ]
  },
  {
   "cell_type": "code",
   "execution_count": 186,
   "metadata": {},
   "outputs": [
    {
     "data": {
      "text/html": [
       "<div>\n",
       "<style scoped>\n",
       "    .dataframe tbody tr th:only-of-type {\n",
       "        vertical-align: middle;\n",
       "    }\n",
       "\n",
       "    .dataframe tbody tr th {\n",
       "        vertical-align: top;\n",
       "    }\n",
       "\n",
       "    .dataframe thead th {\n",
       "        text-align: right;\n",
       "    }\n",
       "</style>\n",
       "<table border=\"1\" class=\"dataframe\">\n",
       "  <thead>\n",
       "    <tr style=\"text-align: right;\">\n",
       "      <th></th>\n",
       "      <th>Name</th>\n",
       "      <th>Birthday</th>\n",
       "      <th>First_Name</th>\n",
       "      <th>Last_Name</th>\n",
       "      <th>Birthday_Year</th>\n",
       "    </tr>\n",
       "    <tr>\n",
       "      <th>ID</th>\n",
       "      <th></th>\n",
       "      <th></th>\n",
       "      <th></th>\n",
       "      <th></th>\n",
       "      <th></th>\n",
       "    </tr>\n",
       "  </thead>\n",
       "  <tbody>\n",
       "    <tr>\n",
       "      <th>ID001</th>\n",
       "      <td>Benson Chen</td>\n",
       "      <td>(1990)-02-05</td>\n",
       "      <td>Benson</td>\n",
       "      <td>Chen</td>\n",
       "      <td>1990</td>\n",
       "    </tr>\n",
       "    <tr>\n",
       "      <th>ID002</th>\n",
       "      <td>Jason Wang</td>\n",
       "      <td>(1969)-09-23</td>\n",
       "      <td>Jason</td>\n",
       "      <td>Wang</td>\n",
       "      <td>1969</td>\n",
       "    </tr>\n",
       "    <tr>\n",
       "      <th>ID003</th>\n",
       "      <td>Anderson J. Rose</td>\n",
       "      <td>(1954)-11-10</td>\n",
       "      <td>Anderson</td>\n",
       "      <td>Rose</td>\n",
       "      <td>1954</td>\n",
       "    </tr>\n",
       "    <tr>\n",
       "      <th>ID004</th>\n",
       "      <td>Jeff Chang</td>\n",
       "      <td>(1995)-04-04</td>\n",
       "      <td>Jeff</td>\n",
       "      <td>Chang</td>\n",
       "      <td>1995</td>\n",
       "    </tr>\n",
       "    <tr>\n",
       "      <th>ID005</th>\n",
       "      <td>Terry Lawson</td>\n",
       "      <td>(2001)-08-25</td>\n",
       "      <td>Terry</td>\n",
       "      <td>Lawson</td>\n",
       "      <td>2001</td>\n",
       "    </tr>\n",
       "  </tbody>\n",
       "</table>\n",
       "</div>"
      ],
      "text/plain": [
       "                   Name      Birthday First_Name Last_Name Birthday_Year\n",
       "ID                                                                      \n",
       "ID001       Benson Chen  (1990)-02-05     Benson      Chen          1990\n",
       "ID002        Jason Wang  (1969)-09-23      Jason      Wang          1969\n",
       "ID003  Anderson J. Rose  (1954)-11-10   Anderson      Rose          1954\n",
       "ID004        Jeff Chang  (1995)-04-04       Jeff     Chang          1995\n",
       "ID005      Terry Lawson  (2001)-08-25      Terry    Lawson          2001"
      ]
     },
     "execution_count": 186,
     "metadata": {},
     "output_type": "execute_result"
    }
   ],
   "source": [
    "df_emp['Birthday_Year'] = df_emp['Birthday'].str.split(\"(\", expand=True)[1].str.split(')', expand=True)[0]\n",
    "df_emp"
   ]
  },
  {
   "cell_type": "markdown",
   "metadata": {},
   "source": [
    "<h2>10. Feature Scaling</h2>"
   ]
  },
  {
   "cell_type": "markdown",
   "metadata": {},
   "source": [
    "The algorithms based on distance calculations such as <b>k-NN</b> or <b>k-Means</b> need to have scaled continuous features as model input."
   ]
  },
  {
   "cell_type": "code",
   "execution_count": 187,
   "metadata": {},
   "outputs": [
    {
     "data": {
      "text/html": [
       "<div>\n",
       "<style scoped>\n",
       "    .dataframe tbody tr th:only-of-type {\n",
       "        vertical-align: middle;\n",
       "    }\n",
       "\n",
       "    .dataframe tbody tr th {\n",
       "        vertical-align: top;\n",
       "    }\n",
       "\n",
       "    .dataframe thead th {\n",
       "        text-align: right;\n",
       "    }\n",
       "</style>\n",
       "<table border=\"1\" class=\"dataframe\">\n",
       "  <thead>\n",
       "    <tr style=\"text-align: right;\">\n",
       "      <th></th>\n",
       "      <th>ApplicantIncome</th>\n",
       "      <th>LoanAmount</th>\n",
       "    </tr>\n",
       "  </thead>\n",
       "  <tbody>\n",
       "    <tr>\n",
       "      <th>0</th>\n",
       "      <td>5849.0</td>\n",
       "      <td>126.0</td>\n",
       "    </tr>\n",
       "    <tr>\n",
       "      <th>1</th>\n",
       "      <td>4583.0</td>\n",
       "      <td>128.0</td>\n",
       "    </tr>\n",
       "    <tr>\n",
       "      <th>2</th>\n",
       "      <td>3000.0</td>\n",
       "      <td>66.0</td>\n",
       "    </tr>\n",
       "    <tr>\n",
       "      <th>3</th>\n",
       "      <td>2583.0</td>\n",
       "      <td>120.0</td>\n",
       "    </tr>\n",
       "    <tr>\n",
       "      <th>4</th>\n",
       "      <td>6000.0</td>\n",
       "      <td>141.0</td>\n",
       "    </tr>\n",
       "  </tbody>\n",
       "</table>\n",
       "</div>"
      ],
      "text/plain": [
       "   ApplicantIncome  LoanAmount\n",
       "0           5849.0       126.0\n",
       "1           4583.0       128.0\n",
       "2           3000.0        66.0\n",
       "3           2583.0       120.0\n",
       "4           6000.0       141.0"
      ]
     },
     "execution_count": 187,
     "metadata": {},
     "output_type": "execute_result"
    }
   ],
   "source": [
    "#df_income\n",
    "df_income = data[['ApplicantIncome', 'LoanAmount']]\n",
    "df_income.head()"
   ]
  },
  {
   "cell_type": "code",
   "execution_count": 188,
   "metadata": {},
   "outputs": [
    {
     "data": {
      "text/html": [
       "<div>\n",
       "<style scoped>\n",
       "    .dataframe tbody tr th:only-of-type {\n",
       "        vertical-align: middle;\n",
       "    }\n",
       "\n",
       "    .dataframe tbody tr th {\n",
       "        vertical-align: top;\n",
       "    }\n",
       "\n",
       "    .dataframe thead th {\n",
       "        text-align: right;\n",
       "    }\n",
       "</style>\n",
       "<table border=\"1\" class=\"dataframe\">\n",
       "  <thead>\n",
       "    <tr style=\"text-align: right;\">\n",
       "      <th></th>\n",
       "      <th>ApplicantIncome</th>\n",
       "      <th>LoanAmount</th>\n",
       "    </tr>\n",
       "  </thead>\n",
       "  <tbody>\n",
       "    <tr>\n",
       "      <th>0</th>\n",
       "      <td>0.575052</td>\n",
       "      <td>0.169320</td>\n",
       "    </tr>\n",
       "    <tr>\n",
       "      <th>1</th>\n",
       "      <td>0.450584</td>\n",
       "      <td>0.172214</td>\n",
       "    </tr>\n",
       "    <tr>\n",
       "      <th>2</th>\n",
       "      <td>0.294949</td>\n",
       "      <td>0.082489</td>\n",
       "    </tr>\n",
       "    <tr>\n",
       "      <th>3</th>\n",
       "      <td>0.253951</td>\n",
       "      <td>0.160637</td>\n",
       "    </tr>\n",
       "    <tr>\n",
       "      <th>4</th>\n",
       "      <td>0.589898</td>\n",
       "      <td>0.191027</td>\n",
       "    </tr>\n",
       "  </tbody>\n",
       "</table>\n",
       "</div>"
      ],
      "text/plain": [
       "   ApplicantIncome  LoanAmount\n",
       "0         0.575052    0.169320\n",
       "1         0.450584    0.172214\n",
       "2         0.294949    0.082489\n",
       "3         0.253951    0.160637\n",
       "4         0.589898    0.191027"
      ]
     },
     "execution_count": 188,
     "metadata": {},
     "output_type": "execute_result"
    }
   ],
   "source": [
    "#value - value min / value max -  value min\n",
    "df_income.apply(lambda x: (x-x.min())/(x.max()-x.min()), axis=0).head()"
   ]
  },
  {
   "cell_type": "code",
   "execution_count": 189,
   "metadata": {},
   "outputs": [
    {
     "data": {
      "text/html": [
       "<div>\n",
       "<style scoped>\n",
       "    .dataframe tbody tr th:only-of-type {\n",
       "        vertical-align: middle;\n",
       "    }\n",
       "\n",
       "    .dataframe tbody tr th {\n",
       "        vertical-align: top;\n",
       "    }\n",
       "\n",
       "    .dataframe thead th {\n",
       "        text-align: right;\n",
       "    }\n",
       "</style>\n",
       "<table border=\"1\" class=\"dataframe\">\n",
       "  <thead>\n",
       "    <tr style=\"text-align: right;\">\n",
       "      <th></th>\n",
       "      <th>ApplicantIncome</th>\n",
       "      <th>LoanAmount</th>\n",
       "    </tr>\n",
       "  </thead>\n",
       "  <tbody>\n",
       "    <tr>\n",
       "      <th>0</th>\n",
       "      <td>0.555926</td>\n",
       "      <td>-0.210183</td>\n",
       "    </tr>\n",
       "    <tr>\n",
       "      <th>1</th>\n",
       "      <td>0.026394</td>\n",
       "      <td>-0.184004</td>\n",
       "    </tr>\n",
       "    <tr>\n",
       "      <th>2</th>\n",
       "      <td>-0.635731</td>\n",
       "      <td>-0.995569</td>\n",
       "    </tr>\n",
       "    <tr>\n",
       "      <th>3</th>\n",
       "      <td>-0.810151</td>\n",
       "      <td>-0.288722</td>\n",
       "    </tr>\n",
       "    <tr>\n",
       "      <th>4</th>\n",
       "      <td>0.619085</td>\n",
       "      <td>-0.013837</td>\n",
       "    </tr>\n",
       "  </tbody>\n",
       "</table>\n",
       "</div>"
      ],
      "text/plain": [
       "   ApplicantIncome  LoanAmount\n",
       "0         0.555926   -0.210183\n",
       "1         0.026394   -0.184004\n",
       "2        -0.635731   -0.995569\n",
       "3        -0.810151   -0.288722\n",
       "4         0.619085   -0.013837"
      ]
     },
     "execution_count": 189,
     "metadata": {},
     "output_type": "execute_result"
    }
   ],
   "source": [
    "#value -mean / std\n",
    "df_income.apply(lambda x: (x-x.mean())/x.std(), axis=0).head()"
   ]
  },
  {
   "cell_type": "markdown",
   "metadata": {},
   "source": [
    "<h2>11. Extracting Date</h2>"
   ]
  },
  {
   "cell_type": "code",
   "execution_count": 190,
   "metadata": {},
   "outputs": [],
   "source": [
    "from datetime import date"
   ]
  },
  {
   "cell_type": "code",
   "execution_count": 191,
   "metadata": {},
   "outputs": [
    {
     "data": {
      "text/html": [
       "<div>\n",
       "<style scoped>\n",
       "    .dataframe tbody tr th:only-of-type {\n",
       "        vertical-align: middle;\n",
       "    }\n",
       "\n",
       "    .dataframe tbody tr th {\n",
       "        vertical-align: top;\n",
       "    }\n",
       "\n",
       "    .dataframe thead th {\n",
       "        text-align: right;\n",
       "    }\n",
       "</style>\n",
       "<table border=\"1\" class=\"dataframe\">\n",
       "  <thead>\n",
       "    <tr style=\"text-align: right;\">\n",
       "      <th></th>\n",
       "      <th>Birthday</th>\n",
       "    </tr>\n",
       "    <tr>\n",
       "      <th>ID</th>\n",
       "      <th></th>\n",
       "    </tr>\n",
       "  </thead>\n",
       "  <tbody>\n",
       "    <tr>\n",
       "      <th>ID001</th>\n",
       "      <td>(1990)-02-05</td>\n",
       "    </tr>\n",
       "    <tr>\n",
       "      <th>ID002</th>\n",
       "      <td>(1969)-09-23</td>\n",
       "    </tr>\n",
       "    <tr>\n",
       "      <th>ID003</th>\n",
       "      <td>(1954)-11-10</td>\n",
       "    </tr>\n",
       "    <tr>\n",
       "      <th>ID004</th>\n",
       "      <td>(1995)-04-04</td>\n",
       "    </tr>\n",
       "    <tr>\n",
       "      <th>ID005</th>\n",
       "      <td>(2001)-08-25</td>\n",
       "    </tr>\n",
       "  </tbody>\n",
       "</table>\n",
       "</div>"
      ],
      "text/plain": [
       "           Birthday\n",
       "ID                 \n",
       "ID001  (1990)-02-05\n",
       "ID002  (1969)-09-23\n",
       "ID003  (1954)-11-10\n",
       "ID004  (1995)-04-04\n",
       "ID005  (2001)-08-25"
      ]
     },
     "execution_count": 191,
     "metadata": {},
     "output_type": "execute_result"
    }
   ],
   "source": [
    "df_date = df_emp[['Birthday']]\n",
    "df_date"
   ]
  },
  {
   "cell_type": "code",
   "execution_count": 192,
   "metadata": {},
   "outputs": [
    {
     "data": {
      "text/html": [
       "<div>\n",
       "<style scoped>\n",
       "    .dataframe tbody tr th:only-of-type {\n",
       "        vertical-align: middle;\n",
       "    }\n",
       "\n",
       "    .dataframe tbody tr th {\n",
       "        vertical-align: top;\n",
       "    }\n",
       "\n",
       "    .dataframe thead th {\n",
       "        text-align: right;\n",
       "    }\n",
       "</style>\n",
       "<table border=\"1\" class=\"dataframe\">\n",
       "  <thead>\n",
       "    <tr style=\"text-align: right;\">\n",
       "      <th></th>\n",
       "      <th>Birthday</th>\n",
       "      <th>Date</th>\n",
       "    </tr>\n",
       "    <tr>\n",
       "      <th>ID</th>\n",
       "      <th></th>\n",
       "      <th></th>\n",
       "    </tr>\n",
       "  </thead>\n",
       "  <tbody>\n",
       "    <tr>\n",
       "      <th>ID001</th>\n",
       "      <td>(1990)-02-05</td>\n",
       "      <td>1990-02-05</td>\n",
       "    </tr>\n",
       "    <tr>\n",
       "      <th>ID002</th>\n",
       "      <td>(1969)-09-23</td>\n",
       "      <td>1969-09-23</td>\n",
       "    </tr>\n",
       "    <tr>\n",
       "      <th>ID003</th>\n",
       "      <td>(1954)-11-10</td>\n",
       "      <td>1954-11-10</td>\n",
       "    </tr>\n",
       "    <tr>\n",
       "      <th>ID004</th>\n",
       "      <td>(1995)-04-04</td>\n",
       "      <td>1995-04-04</td>\n",
       "    </tr>\n",
       "    <tr>\n",
       "      <th>ID005</th>\n",
       "      <td>(2001)-08-25</td>\n",
       "      <td>2001-08-25</td>\n",
       "    </tr>\n",
       "  </tbody>\n",
       "</table>\n",
       "</div>"
      ],
      "text/plain": [
       "           Birthday       Date\n",
       "ID                            \n",
       "ID001  (1990)-02-05 1990-02-05\n",
       "ID002  (1969)-09-23 1969-09-23\n",
       "ID003  (1954)-11-10 1954-11-10\n",
       "ID004  (1995)-04-04 1995-04-04\n",
       "ID005  (2001)-08-25 2001-08-25"
      ]
     },
     "execution_count": 192,
     "metadata": {},
     "output_type": "execute_result"
    }
   ],
   "source": [
    "df_date.loc[:, 'Date'] = pd.to_datetime(df_date['Birthday'], format=\"(%Y)-%m-%d\")\n",
    "df_date"
   ]
  },
  {
   "cell_type": "code",
   "execution_count": 193,
   "metadata": {},
   "outputs": [
    {
     "data": {
      "text/html": [
       "<div>\n",
       "<style scoped>\n",
       "    .dataframe tbody tr th:only-of-type {\n",
       "        vertical-align: middle;\n",
       "    }\n",
       "\n",
       "    .dataframe tbody tr th {\n",
       "        vertical-align: top;\n",
       "    }\n",
       "\n",
       "    .dataframe thead th {\n",
       "        text-align: right;\n",
       "    }\n",
       "</style>\n",
       "<table border=\"1\" class=\"dataframe\">\n",
       "  <thead>\n",
       "    <tr style=\"text-align: right;\">\n",
       "      <th></th>\n",
       "      <th>Birthday</th>\n",
       "      <th>Date</th>\n",
       "      <th>Year</th>\n",
       "      <th>Month</th>\n",
       "      <th>Day</th>\n",
       "      <th>Day_of_Week</th>\n",
       "    </tr>\n",
       "    <tr>\n",
       "      <th>ID</th>\n",
       "      <th></th>\n",
       "      <th></th>\n",
       "      <th></th>\n",
       "      <th></th>\n",
       "      <th></th>\n",
       "      <th></th>\n",
       "    </tr>\n",
       "  </thead>\n",
       "  <tbody>\n",
       "    <tr>\n",
       "      <th>ID001</th>\n",
       "      <td>(1990)-02-05</td>\n",
       "      <td>1990-02-05</td>\n",
       "      <td>1990</td>\n",
       "      <td>2</td>\n",
       "      <td>5</td>\n",
       "      <td>Monday</td>\n",
       "    </tr>\n",
       "    <tr>\n",
       "      <th>ID002</th>\n",
       "      <td>(1969)-09-23</td>\n",
       "      <td>1969-09-23</td>\n",
       "      <td>1969</td>\n",
       "      <td>9</td>\n",
       "      <td>23</td>\n",
       "      <td>Tuesday</td>\n",
       "    </tr>\n",
       "    <tr>\n",
       "      <th>ID003</th>\n",
       "      <td>(1954)-11-10</td>\n",
       "      <td>1954-11-10</td>\n",
       "      <td>1954</td>\n",
       "      <td>11</td>\n",
       "      <td>10</td>\n",
       "      <td>Wednesday</td>\n",
       "    </tr>\n",
       "    <tr>\n",
       "      <th>ID004</th>\n",
       "      <td>(1995)-04-04</td>\n",
       "      <td>1995-04-04</td>\n",
       "      <td>1995</td>\n",
       "      <td>4</td>\n",
       "      <td>4</td>\n",
       "      <td>Tuesday</td>\n",
       "    </tr>\n",
       "    <tr>\n",
       "      <th>ID005</th>\n",
       "      <td>(2001)-08-25</td>\n",
       "      <td>2001-08-25</td>\n",
       "      <td>2001</td>\n",
       "      <td>8</td>\n",
       "      <td>25</td>\n",
       "      <td>Saturday</td>\n",
       "    </tr>\n",
       "  </tbody>\n",
       "</table>\n",
       "</div>"
      ],
      "text/plain": [
       "           Birthday       Date  Year  Month  Day Day_of_Week\n",
       "ID                                                          \n",
       "ID001  (1990)-02-05 1990-02-05  1990      2    5      Monday\n",
       "ID002  (1969)-09-23 1969-09-23  1969      9   23     Tuesday\n",
       "ID003  (1954)-11-10 1954-11-10  1954     11   10   Wednesday\n",
       "ID004  (1995)-04-04 1995-04-04  1995      4    4     Tuesday\n",
       "ID005  (2001)-08-25 2001-08-25  2001      8   25    Saturday"
      ]
     },
     "execution_count": 193,
     "metadata": {},
     "output_type": "execute_result"
    }
   ],
   "source": [
    "df_date.loc[:, 'Year'] = df_date.loc[:,'Date'].dt.year\n",
    "df_date.loc[:, 'Month'] = df_date.loc[:,'Date'].dt.month\n",
    "df_date.loc[:, 'Day'] = df_date.loc[:,'Date'].dt.day\n",
    "df_date.loc[:, 'Day_of_Week'] = df_date['Date'].dt.day_name()\n",
    "df_date"
   ]
  },
  {
   "cell_type": "code",
   "execution_count": null,
   "metadata": {},
   "outputs": [],
   "source": []
  },
  {
   "cell_type": "code",
   "execution_count": null,
   "metadata": {},
   "outputs": [],
   "source": []
  }
 ],
 "metadata": {
  "kernelspec": {
   "display_name": "Python 3",
   "language": "python",
   "name": "python3"
  },
  "language_info": {
   "codemirror_mode": {
    "name": "ipython",
    "version": 3
   },
   "file_extension": ".py",
   "mimetype": "text/x-python",
   "name": "python",
   "nbconvert_exporter": "python",
   "pygments_lexer": "ipython3",
   "version": "3.7.5"
  }
 },
 "nbformat": 4,
 "nbformat_minor": 4
}
